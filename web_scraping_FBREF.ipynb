{
 "cells": [
  {
   "cell_type": "code",
   "execution_count": 1,
   "id": "506c0b23",
   "metadata": {},
   "outputs": [],
   "source": [
    "from urllib.request import urlopen\n",
    "from bs4 import BeautifulSoup\n",
    "import pandas as pd\n",
    "from time import sleep"
   ]
  },
  {
   "cell_type": "markdown",
   "id": "c85d05bd",
   "metadata": {},
   "source": [
    "# Dados de Jogadores"
   ]
  },
  {
   "cell_type": "markdown",
   "id": "bffc73eb",
   "metadata": {},
   "source": [
    "### Acessar página e encontrar tabela"
   ]
  },
  {
   "cell_type": "code",
   "execution_count": 4,
   "id": "d83f3ed4",
   "metadata": {},
   "outputs": [],
   "source": [
    "pagina_jogadores = urlopen(\"https://fbref.com/pt/equipes/83f55dbe/Vasco-da-Gama-Estatisticas\")\n",
    "bs_pagina_jogadores = BeautifulSoup(pagina_jogadores, 'html.parser')\n",
    "tabela_jogadores = bs_pagina_jogadores.find(\"div\", {'id':'div_stats_standard_10987'}).table.tbody"
   ]
  },
  {
   "cell_type": "markdown",
   "id": "a8667cf0",
   "metadata": {},
   "source": [
    "### Coletar dados e exportar CSV"
   ]
  },
  {
   "cell_type": "code",
   "execution_count": 6,
   "id": "52b781be",
   "metadata": {},
   "outputs": [],
   "source": [
    "dados_jogadores = [\n",
    "    (\n",
    "        linha.th[\"data-append-csv\"],\n",
    "        linha.find_all(\"td\")[0].a.span.text[-3:],\n",
    "        linha.find_all(\"td\")[1].text\n",
    "    )\n",
    "    for linha in tabela_jogadores.find_all(\"tr\")\n",
    "]\n",
    "# criar data frame e exportar csv\n",
    "jogadores_df = pd.DataFrame(dados_jogadores,columns=['jogador','pais','posicao'])\n",
    "jogadores_df.to_csv(\"jogadores.csv\", index=False)"
   ]
  },
  {
   "cell_type": "markdown",
   "id": "24aeeb08",
   "metadata": {},
   "source": [
    "# Dados de Partidas"
   ]
  },
  {
   "cell_type": "markdown",
   "id": "78dd3a08",
   "metadata": {},
   "source": [
    "### Acessar página e encontrar tabela"
   ]
  },
  {
   "cell_type": "code",
   "execution_count": 7,
   "id": "578a3167",
   "metadata": {},
   "outputs": [],
   "source": [
    "pagina_partidas = urlopen(\"https://fbref.com/pt/equipes/83f55dbe/2021/partidas/s10987/schedule/Vasco-da-Gama-Resultados-e-Calendarios-Serie-B\")\n",
    "bs_pagina_partidas = BeautifulSoup(pagina_partidas, 'html.parser')\n",
    "tabela_partidas = bs_pagina_partidas.find(\"div\", {'id':'div_matchlogs_for'}).table.tbody"
   ]
  },
  {
   "cell_type": "markdown",
   "id": "700d506e",
   "metadata": {},
   "source": [
    "### Coletar dados e exportar CSV"
   ]
  },
  {
   "cell_type": "code",
   "execution_count": 8,
   "id": "a53ab8bb",
   "metadata": {},
   "outputs": [],
   "source": [
    "dados_partidas = [\n",
    "    (\n",
    "        # data\n",
    "        linha.th.a.text,\n",
    "        # hora\n",
    "        linha.find_all(\"td\")[0].text,\n",
    "        # rodada\n",
    "        linha.find_all(\"td\")[1].text[-2:],\n",
    "        # mando\n",
    "        linha.find_all(\"td\")[3].text,\n",
    "        # resultado\n",
    "        linha.find_all(\"td\")[4].text,\n",
    "        # gols pro\n",
    "        linha.find_all(\"td\")[5].text,\n",
    "        # gols contra\n",
    "        linha.find_all(\"td\")[6].text,\n",
    "        # adversário\n",
    "        linha.find_all(\"td\")[7].a.text,\n",
    "        # posse de bola\n",
    "        linha.find_all(\"td\")[8].text,\n",
    "        # publico\n",
    "        linha.find_all(\"td\")[9].text,\n",
    "        # capitao\n",
    "        linha.find_all(\"td\")[10].a.text,\n",
    "        # arbitro\n",
    "        linha.find_all(\"td\")[12].text\n",
    "    )\n",
    "    for linha in tabela_partidas.find_all(\"tr\")[:31]\n",
    "]\n",
    "# criar data frame e exportar csv\n",
    "partidas_df = pd.DataFrame(dados_partidas,\n",
    "                           columns=[\n",
    "                               'data',\n",
    "                               'hora',\n",
    "                               'rodada',\n",
    "                               'mando',\n",
    "                               'resultado',\n",
    "                               'gols pro',\n",
    "                               'gols contra',\n",
    "                               'adversário',\n",
    "                               'posse de bola',\n",
    "                               'publico',\n",
    "                               'capitao',\n",
    "                               'arbitro'\n",
    "                           ])\n",
    "partidas_df.to_csv(\"partidas.csv\", index=False)"
   ]
  },
  {
   "cell_type": "markdown",
   "id": "ee7194a2",
   "metadata": {},
   "source": [
    "# Dados de Desempenho"
   ]
  },
  {
   "cell_type": "markdown",
   "id": "6ff2e864",
   "metadata": {},
   "source": [
    "### Encontrar URL da partida"
   ]
  },
  {
   "cell_type": "code",
   "execution_count": 9,
   "id": "07b13570",
   "metadata": {},
   "outputs": [],
   "source": [
    "url_partidas = [\n",
    "    (\n",
    "        # Rodada\n",
    "        partida.find_all(\"td\")[1].text[-2:],\n",
    "        # URL\n",
    "        partida.find_all(\"td\")[13].a['href']\n",
    "    ) \n",
    "    for partida in tabela_partidas.find_all(\"tr\")[:31] # 31 rodadas ate o momento\n",
    "]"
   ]
  },
  {
   "cell_type": "markdown",
   "id": "5647bc7e",
   "metadata": {},
   "source": [
    "### Acessar páginas de desempenho e obter dados de jogador"
   ]
  },
  {
   "cell_type": "code",
   "execution_count": 10,
   "id": "c3ba526a",
   "metadata": {
    "scrolled": true
   },
   "outputs": [
    {
     "name": "stdout",
     "output_type": "stream",
     "text": [
      "Exportar CSV rodada 1_desempenho_jogadores.csv\n",
      "Exportar CSV rodada 2_desempenho_jogadores.csv\n",
      "Exportar CSV rodada 3_desempenho_jogadores.csv\n",
      "Exportar CSV rodada 4_desempenho_jogadores.csv\n",
      "Exportar CSV rodada 5_desempenho_jogadores.csv\n",
      "Exportar CSV rodada 6_desempenho_jogadores.csv\n",
      "Exportar CSV rodada 7_desempenho_jogadores.csv\n",
      "Exportar CSV rodada 8_desempenho_jogadores.csv\n",
      "Exportar CSV rodada 9_desempenho_jogadores.csv\n",
      "Exportar CSV rodada10_desempenho_jogadores.csv\n",
      "Exportar CSV rodada11_desempenho_jogadores.csv\n",
      "Exportar CSV rodada12_desempenho_jogadores.csv\n",
      "Exportar CSV rodada13_desempenho_jogadores.csv\n",
      "Exportar CSV rodada14_desempenho_jogadores.csv\n",
      "Exportar CSV rodada15_desempenho_jogadores.csv\n",
      "Exportar CSV rodada16_desempenho_jogadores.csv\n",
      "Exportar CSV rodada17_desempenho_jogadores.csv\n",
      "Exportar CSV rodada18_desempenho_jogadores.csv\n",
      "Exportar CSV rodada19_desempenho_jogadores.csv\n",
      "Exportar CSV rodada20_desempenho_jogadores.csv\n",
      "Exportar CSV rodada21_desempenho_jogadores.csv\n",
      "Exportar CSV rodada22_desempenho_jogadores.csv\n",
      "Exportar CSV rodada23_desempenho_jogadores.csv\n",
      "Exportar CSV rodada24_desempenho_jogadores.csv\n",
      "Exportar CSV rodada25_desempenho_jogadores.csv\n",
      "Exportar CSV rodada26_desempenho_jogadores.csv\n",
      "Exportar CSV rodada27_desempenho_jogadores.csv\n",
      "Exportar CSV rodada28_desempenho_jogadores.csv\n",
      "Exportar CSV rodada29_desempenho_jogadores.csv\n",
      "Exportar CSV rodada30_desempenho_jogadores.csv\n",
      "Exportar CSV rodada31_desempenho_jogadores.csv\n"
     ]
    }
   ],
   "source": [
    "for rodada in url_partidas:\n",
    "    numero_rodada = rodada[0]\n",
    "    url = rodada[1]\n",
    "    # obter página\n",
    "    pagina_desempenho = urlopen(f'https://fbref.com{url}')\n",
    "    # simular tempo de execução de usuario comum\n",
    "    sleep(60)\n",
    "    bs_pagina_desempenho = BeautifulSoup(pagina_desempenho, 'html.parser')\n",
    "    # localizar tabela de desempenho do Vasco\n",
    "    titulo_tabela = bs_pagina_desempenho.find(\"h2\", text=\"Vasco da Gama Estatísticas do jogador\")\n",
    "    div_titulo = titulo_tabela.find_parent()\n",
    "    tabela_desempenho = div_titulo.find_next_sibling().table.tbody\n",
    "    # coletar dados da tabela\n",
    "    dados_desempenho = [\n",
    "        (\n",
    "            # rodada\n",
    "            numero_rodada,\n",
    "            # jogador\n",
    "            linha.th['data-append-csv'],\n",
    "            # numero\n",
    "            linha.find_all('td')[0].text,\n",
    "            # idade\n",
    "            linha.find_all('td')[3].text[:2],\n",
    "            # minutos\n",
    "            linha.find_all('td')[4].text,\n",
    "            # gol\n",
    "            linha.find_all('td')[5].text,\n",
    "            # gol contra\n",
    "            linha.find_all('td')[19].text,\n",
    "            # gol de penalti\n",
    "            linha.find_all('td')[7].text,\n",
    "            # penalti perdido\n",
    "            int(linha.find_all('td')[8].text) - int(linha.find_all('td')[7].text),\n",
    "            # assistencia\n",
    "            linha.find_all('td')[6].text,\n",
    "            # total de chutes\n",
    "            linha.find_all('td')[9].text,\n",
    "            # chutes a gol\n",
    "            linha.find_all('td')[10].text,\n",
    "            # cartão amrelo\n",
    "            linha.find_all('td')[11].text,\n",
    "            # cartão vermelho\n",
    "            linha.find_all('td')[12].text,\n",
    "            # falta cometida\n",
    "            linha.find_all('td')[13].text,\n",
    "            # falta provocada\n",
    "            linha.find_all('td')[14].text,\n",
    "            # impedimento\n",
    "            linha.find_all('td')[15].text,\n",
    "            # cruxamento\n",
    "            linha.find_all('td')[16].text,\n",
    "            # roubada de bola\n",
    "            linha.find_all('td')[17].text,\n",
    "            # desarme\n",
    "            linha.find_all('td')[18].text,\n",
    "            # cobrança de penalti\n",
    "            linha.find_all('td')[21].text,\n",
    "            # penalti convertido\n",
    "            linha.find_all('td')[20].text\n",
    "        ) \n",
    "        for linha in tabela_desempenho.find_all(\"tr\")\n",
    "    ]\n",
    "    # criar data frame e exportar csv\n",
    "    desempenho_df = pd.DataFrame(dados_desempenho,\n",
    "                                 columns = [\n",
    "                                     \"rodada\",\n",
    "                                     \"jogador\",\n",
    "                                     \"numero\",\n",
    "                                     \"idade\",\n",
    "                                     \"minutos\",\n",
    "                                     \"gol\",\n",
    "                                     \"gol_contra\",\n",
    "                                     \"gol_penalti\",\n",
    "                                     \"penalti_perdido\",\n",
    "                                     \"assistencia\",\n",
    "                                     \"chute_total\",\n",
    "                                     \"chute_gol\",\n",
    "                                     \"cartao_amarelo\",\n",
    "                                     \"cartao_vermelho\",\n",
    "                                     \"falta_cometida\",\n",
    "                                     \"falta_provocada\",\n",
    "                                     \"impedimento\",\n",
    "                                     \"cruzamento\",\n",
    "                                     \"roubada_bola\",\n",
    "                                     \"desarme\",\n",
    "                                     \"cobranca_penalti\",\n",
    "                                     \"penalti_convertido\"\n",
    "                                 ])\n",
    "    nome_csv = f'rodada{numero_rodada}_desempenho_jogadores.csv'\n",
    "    desempenho_df.to_csv(nome_csv, index=False)\n",
    "    print(f'Exportar CSV {nome_csv}')"
   ]
  },
  {
   "cell_type": "markdown",
   "id": "8b4dd277",
   "metadata": {},
   "source": [
    "### Acessar páginas de desempenho e obter dados de goleiro"
   ]
  },
  {
   "cell_type": "code",
   "execution_count": null,
   "id": "a9970712",
   "metadata": {},
   "outputs": [],
   "source": [
    "dados_goleiro = []\n",
    "\n",
    "for rodada in url_partidas:\n",
    "    numero_rodada = rodada[0]\n",
    "    url = rodada[1]\n",
    "    # obter página\n",
    "    pagina_desempenho = urlopen(f'https://fbref.com{url}')\n",
    "    # simular tempo de execução de usuario comum\n",
    "    sleep(60)\n",
    "    bs_pagina_desempenho = BeautifulSoup(pagina_desempenho, 'html.parser')\n",
    "    # localizar tabela de desempenho do goleiro do Vasco\n",
    "    titulo_tabela_goleiro = bs_pagina_desempenho.find(\"h2\", text=\"Vasco da Gama Estatísticas de goleiro\")\n",
    "    div_titulo_goleiro = titulo_tabela_goleiro.find_parent()\n",
    "    tabela_desempenho_goleiro = div_titulo_goleiro.find_next_sibling().table.tbody\n",
    "    # coletar dados da tabela\n",
    "    dados_goleiro += [\n",
    "        (\n",
    "            # rodada\n",
    "            numero_rodada,\n",
    "            # jogador\n",
    "            linha.th['csk'],\n",
    "            # idade\n",
    "            linha.find_all('td')[1].text[:2],\n",
    "            # minutos\n",
    "            linha.find_all('td')[2].text,\n",
    "            # gol sofrido\n",
    "            linha.find_all('td')[4].text,\n",
    "            # defesa\n",
    "            linha.find_all('td')[5].text,\n",
    "        )\n",
    "        for linha in tabela_desempenho_goleiro.find_all(\"tr\")\n",
    "    ]\n",
    "\n",
    "# criar data frame e exportar csv\n",
    "desempenho_goleiro_df = pd.DataFrame(dados_goleiro,\n",
    "                                     columns = [\n",
    "                                         \"rodada\",\n",
    "                                         \"jogador\",\n",
    "                                         \"idade\",\n",
    "                                         \"minutos\",\n",
    "                                         \"gol_sofrido\",\n",
    "                                         \"defesa\"\n",
    "                                     ])\n",
    "desempenho_goleiro_df.to_csv(\"desempenho_goleiro.csv\", index=False)"
   ]
  }
 ],
 "metadata": {
  "kernelspec": {
   "display_name": "Python 3 (ipykernel)",
   "language": "python",
   "name": "python3"
  },
  "language_info": {
   "codemirror_mode": {
    "name": "ipython",
    "version": 3
   },
   "file_extension": ".py",
   "mimetype": "text/x-python",
   "name": "python",
   "nbconvert_exporter": "python",
   "pygments_lexer": "ipython3",
   "version": "3.8.10"
  }
 },
 "nbformat": 4,
 "nbformat_minor": 5
}
